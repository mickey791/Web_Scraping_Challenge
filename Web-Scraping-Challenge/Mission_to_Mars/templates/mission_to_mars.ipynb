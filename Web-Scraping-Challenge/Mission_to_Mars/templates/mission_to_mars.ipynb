{
 "cells": [
  {
   "cell_type": "code",
   "execution_count": 1,
   "id": "ad08226a-835d-49d0-8e57-b493e17fc796",
   "metadata": {},
   "outputs": [],
   "source": [
    "# Import Dependencies\n",
    "import os\n",
    "import requests\n",
    "from bs4 import BeautifulSoup as bs\n",
    "import pandas as pd\n",
    "from splinter import Browser"
   ]
  },
  {
   "cell_type": "code",
   "execution_count": 2,
   "id": "12ee35ab-c73f-451d-b489-509960d8c765",
   "metadata": {},
   "outputs": [
    {
     "ename": "TypeError",
     "evalue": "'str' object cannot be interpreted as an integer",
     "output_type": "error",
     "traceback": [
      "\u001b[1;31m---------------------------------------------------------------------------\u001b[0m",
      "\u001b[1;31mTypeError\u001b[0m                                 Traceback (most recent call last)",
      "\u001b[1;32m~\\AppData\\Local\\Temp/ipykernel_17444/384057764.py\u001b[0m in \u001b[0;36m<module>\u001b[1;34m\u001b[0m\n\u001b[0;32m      1\u001b[0m \u001b[0mexecutable_path\u001b[0m \u001b[1;33m=\u001b[0m \u001b[1;33m{\u001b[0m\u001b[1;34m'executable_path'\u001b[0m\u001b[1;33m:\u001b[0m \u001b[1;34m'chromedriver.exe'\u001b[0m\u001b[1;33m}\u001b[0m\u001b[1;33m\u001b[0m\u001b[1;33m\u001b[0m\u001b[0m\n\u001b[1;32m----> 2\u001b[1;33m \u001b[0mbrowser\u001b[0m \u001b[1;33m=\u001b[0m \u001b[0mBrowser\u001b[0m\u001b[1;33m(\u001b[0m\u001b[1;34m'chrome'\u001b[0m\u001b[1;33m,\u001b[0m \u001b[1;34m'executable_path'\u001b[0m\u001b[1;33m,\u001b[0m \u001b[0mheadless\u001b[0m\u001b[1;33m=\u001b[0m\u001b[1;32mFalse\u001b[0m\u001b[1;33m)\u001b[0m\u001b[1;33m\u001b[0m\u001b[1;33m\u001b[0m\u001b[0m\n\u001b[0m",
      "\u001b[1;32mc:\\Users\\micha\\anaconda3\\lib\\site-packages\\splinter\\browser.py\u001b[0m in \u001b[0;36mBrowser\u001b[1;34m(driver_name, retry_count, *args, **kwargs)\u001b[0m\n\u001b[0;32m    111\u001b[0m         \u001b[1;32mraise\u001b[0m \u001b[0mDriverNotFoundError\u001b[0m\u001b[1;33m(\u001b[0m\u001b[1;34m\"No driver for %s\"\u001b[0m \u001b[1;33m%\u001b[0m \u001b[0mdriver_name\u001b[0m\u001b[1;33m)\u001b[0m\u001b[1;33m\u001b[0m\u001b[1;33m\u001b[0m\u001b[0m\n\u001b[0;32m    112\u001b[0m \u001b[1;33m\u001b[0m\u001b[0m\n\u001b[1;32m--> 113\u001b[1;33m     \u001b[1;32mreturn\u001b[0m \u001b[0mget_driver\u001b[0m\u001b[1;33m(\u001b[0m\u001b[0mdriver\u001b[0m\u001b[1;33m,\u001b[0m \u001b[0mretry_count\u001b[0m\u001b[1;33m=\u001b[0m\u001b[0mretry_count\u001b[0m\u001b[1;33m,\u001b[0m \u001b[1;33m*\u001b[0m\u001b[0margs\u001b[0m\u001b[1;33m,\u001b[0m \u001b[1;33m**\u001b[0m\u001b[0mkwargs\u001b[0m\u001b[1;33m)\u001b[0m\u001b[1;33m\u001b[0m\u001b[1;33m\u001b[0m\u001b[0m\n\u001b[0m",
      "\u001b[1;32mc:\\Users\\micha\\anaconda3\\lib\\site-packages\\splinter\\browser.py\u001b[0m in \u001b[0;36mget_driver\u001b[1;34m(driver, retry_count, *args, **kwargs)\u001b[0m\n\u001b[0;32m     80\u001b[0m     \u001b[0merr\u001b[0m \u001b[1;33m=\u001b[0m \u001b[1;32mNone\u001b[0m\u001b[1;33m\u001b[0m\u001b[1;33m\u001b[0m\u001b[0m\n\u001b[0;32m     81\u001b[0m \u001b[1;33m\u001b[0m\u001b[0m\n\u001b[1;32m---> 82\u001b[1;33m     \u001b[1;32mfor\u001b[0m \u001b[0m_\u001b[0m \u001b[1;32min\u001b[0m \u001b[0mrange\u001b[0m\u001b[1;33m(\u001b[0m\u001b[0mretry_count\u001b[0m\u001b[1;33m)\u001b[0m\u001b[1;33m:\u001b[0m\u001b[1;33m\u001b[0m\u001b[1;33m\u001b[0m\u001b[0m\n\u001b[0m\u001b[0;32m     83\u001b[0m         \u001b[1;32mtry\u001b[0m\u001b[1;33m:\u001b[0m\u001b[1;33m\u001b[0m\u001b[1;33m\u001b[0m\u001b[0m\n\u001b[0;32m     84\u001b[0m             \u001b[1;32mreturn\u001b[0m \u001b[0mdriver\u001b[0m\u001b[1;33m(\u001b[0m\u001b[1;33m*\u001b[0m\u001b[0margs\u001b[0m\u001b[1;33m,\u001b[0m \u001b[1;33m**\u001b[0m\u001b[0mkwargs\u001b[0m\u001b[1;33m)\u001b[0m\u001b[1;33m\u001b[0m\u001b[1;33m\u001b[0m\u001b[0m\n",
      "\u001b[1;31mTypeError\u001b[0m: 'str' object cannot be interpreted as an integer"
     ]
    }
   ],
   "source": [
    "executable_path = {'executable_path': 'chromedriver.exe'}\n",
    "browser = Browser('chrome', 'executable_path', headless=False)"
   ]
  },
  {
   "cell_type": "code",
   "execution_count": 3,
   "id": "f4906a7a-5f66-455f-9b17-ee10c6d579be",
   "metadata": {},
   "outputs": [
    {
     "ename": "NameError",
     "evalue": "name 'browser' is not defined",
     "output_type": "error",
     "traceback": [
      "\u001b[1;31m---------------------------------------------------------------------------\u001b[0m",
      "\u001b[1;31mNameError\u001b[0m                                 Traceback (most recent call last)",
      "\u001b[1;32m~\\AppData\\Local\\Temp/ipykernel_17444/4179004425.py\u001b[0m in \u001b[0;36m<module>\u001b[1;34m\u001b[0m\n\u001b[0;32m      2\u001b[0m \u001b[1;33m\u001b[0m\u001b[0m\n\u001b[0;32m      3\u001b[0m \u001b[0mNasa_url\u001b[0m \u001b[1;33m=\u001b[0m \u001b[1;34m'https://mars.nasa.gov/news/'\u001b[0m\u001b[1;33m\u001b[0m\u001b[1;33m\u001b[0m\u001b[0m\n\u001b[1;32m----> 4\u001b[1;33m \u001b[0mbrowser\u001b[0m\u001b[1;33m.\u001b[0m\u001b[0mvisit\u001b[0m\u001b[1;33m(\u001b[0m\u001b[0mNasa_url\u001b[0m\u001b[1;33m)\u001b[0m\u001b[1;33m\u001b[0m\u001b[1;33m\u001b[0m\u001b[0m\n\u001b[0m\u001b[0;32m      5\u001b[0m \u001b[1;31m#create HTMl Object\u001b[0m\u001b[1;33m\u001b[0m\u001b[1;33m\u001b[0m\u001b[0m\n\u001b[0;32m      6\u001b[0m \u001b[0mhtml\u001b[0m \u001b[1;33m=\u001b[0m \u001b[0mbrowser\u001b[0m\u001b[1;33m.\u001b[0m\u001b[0mhtml\u001b[0m\u001b[1;33m\u001b[0m\u001b[1;33m\u001b[0m\u001b[0m\n",
      "\u001b[1;31mNameError\u001b[0m: name 'browser' is not defined"
     ]
    }
   ],
   "source": [
    "#Visit Nasa News url  using splinter module\n",
    "\n",
    "Nasa_url = 'https://mars.nasa.gov/news/'\n",
    "browser.visit(Nasa_url)\n",
    "#create HTMl Object\n",
    "html = browser.html\n",
    "#parse HTML with beautiful soup\n",
    "Nasa_soup = bs(html, 'html.parser')\n",
    "\n",
    "# Extract title text\n",
    "nasa_news_title = Nasa_soup.find('div',class_='content_title').find('a').text\n",
    "print(nasa_news_title)\n",
    "# Extract Paragraph text\n",
    "nasa_news_paragraph=Nasa_soup.find('div',class_='article_teaser_body').text\n",
    "print(nasa_news_paragraph)"
   ]
  },
  {
   "cell_type": "code",
   "execution_count": null,
   "id": "44a62a47-e721-47d2-ae05-120c6ee92c22",
   "metadata": {},
   "outputs": [],
   "source": [
    "#Visit Nasa's JPL Mars Space url  using splinter module\n",
    "jplNasa_url='https://www.jpl.nasa.gov/spaceimages/?search=&category=Mars'\n",
    "browser.visit(jplNasa_url)\n",
    "#create HTML object\n",
    "html = browser.html\n",
    "soup = bs(html, 'html.parser')\n",
    "\n",
    "#get base Nasa link\n",
    "main_url ='https://www.jpl.nasa.gov'\n",
    "#get image url from the soup object.\n",
    "featured_image_url = soup.find('article')['style'].replace('background-image: url(','').replace(');', '')[1:-1]\n",
    "\n",
    "#Create one full image url link\n",
    "featured_image_url=main_url+featured_image_url\n",
    "print(featured_image_url )"
   ]
  },
  {
   "cell_type": "code",
   "execution_count": null,
   "id": "62ed1489-210d-41b3-9d5f-914a9ecd3cdb",
   "metadata": {},
   "outputs": [],
   "source": [
    "#Visit the Mars Weather twitter account\n",
    "Tweet_url='https://twitter.com/marswxreport?lang=en'\n",
    "# Retrieve page with the requests module\n",
    "browser.visit(Tweet_url)\n",
    "#create HTML object\n",
    "html=browser.html\n",
    "twit_soup=bs(html,'html.parser')\n",
    "\n",
    "# Extract title text\n",
    "mars_weather = twit_soup.find('p',class_='TweetTextSize')\n",
    "print('mars_weather = '+ mars_weather.text)"
   ]
  },
  {
   "cell_type": "code",
   "execution_count": null,
   "id": "90bba36e-a759-4b36-b13c-cdef0fd7b279",
   "metadata": {},
   "outputs": [],
   "source": [
    "# Visit the Mars Facts webpage\n",
    "mars_facts='https://space-facts.com/mars/'\n",
    "mars_fact_table=pd.read_html(mars_facts)\n",
    "\n",
    "#Create Dataframe to store table data\n",
    "df = mars_fact_table[0]\n",
    "df.columns = ['Mars-Earth Comparison', 'Mars', 'Earth']\n",
    "html_table = df.to_html()\n",
    "html_table"
   ]
  },
  {
   "cell_type": "code",
   "execution_count": null,
   "id": "a7ec2ec5-ca9d-43d1-b5b1-dc66a351064e",
   "metadata": {},
   "outputs": [],
   "source": [
    "# Visit the USGS Astrogeology site\n",
    "USGS_url=\"https://astrogeology.usgs.gov/search/results?q=hemisphere+enhanced&k1=target&v1=Mars\"\n",
    "short_url=\"https://astrogeology.usgs.gov\""
   ]
  },
  {
   "cell_type": "code",
   "execution_count": null,
   "id": "09f5e1e3-690c-4659-9d30-c09ada603f48",
   "metadata": {},
   "outputs": [],
   "source": [
    "browser.visit(USGS_url)\n",
    "html = browser.html\n",
    "soup = bs(html, 'html.parser')\n",
    "main_url = soup.find_all('div', class_='item')\n",
    "titles=[]\n",
    "hemisphere_img_urls=[]      "
   ]
  },
  {
   "cell_type": "code",
   "execution_count": null,
   "id": "ad703418-d9fc-461f-b4a0-c0e77c215fbd",
   "metadata": {},
   "outputs": [],
   "source": [
    "for x in main_url:\n",
    "    title = x.find('h3').text\n",
    "    url = x.find('a')['href']\n",
    "    hem_img_url= short_url+url\n",
    "    #print(hem_img_url)\n",
    "    browser.visit(hem_img_url)\n",
    "    html = browser.html\n",
    "    soup = bs(html, 'html.parser')\n",
    "    hemisphere_img_original= soup.find('div',class_='downloads')\n",
    "    hemisphere_img_url=hemisphere_img_original.find('a')['href']\n",
    "    \n",
    "    print(hemisphere_img_url)\n",
    "    img_data=dict({'title':title, 'img_url':hemisphere_img_url})\n",
    "    hemisphere_img_urls.append(img_data)"
   ]
  },
  {
   "cell_type": "code",
   "execution_count": null,
   "id": "5d8f4b94-4f79-47ad-8155-0ec251ab1f58",
   "metadata": {},
   "outputs": [],
   "source": [
    "hemisphere_img_urls"
   ]
  }
 ],
 "metadata": {
  "kernelspec": {
   "display_name": "Python 3.9.7 ('base')",
   "language": "python",
   "name": "python3"
  },
  "language_info": {
   "codemirror_mode": {
    "name": "ipython",
    "version": 3
   },
   "file_extension": ".py",
   "mimetype": "text/x-python",
   "name": "python",
   "nbconvert_exporter": "python",
   "pygments_lexer": "ipython3",
   "version": "3.9.7"
  },
  "vscode": {
   "interpreter": {
    "hash": "36ab7f9348c7d0662a1965af503f4376fbff05df74ea3a3ead8d3abcf8650cb8"
   }
  }
 },
 "nbformat": 4,
 "nbformat_minor": 5
}
